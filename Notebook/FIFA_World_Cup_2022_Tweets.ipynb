{
  "nbformat": 4,
  "nbformat_minor": 0,
  "metadata": {
    "colab": {
      "provenance": [],
      "gpuType": "T4"
    },
    "kernelspec": {
      "name": "python3",
      "display_name": "Python 3"
    },
    "language_info": {
      "name": "python"
    }
  },
  "cells": [
    {
      "cell_type": "markdown",
      "source": [
        "1. **Introduction**"
      ],
      "metadata": {
        "id": "AcohJ3CgdBMJ"
      }
    },
    {
      "cell_type": "markdown",
      "source": [
        "**Data Problem**"
      ],
      "metadata": {
        "id": "pat8dncRdHPy"
      }
    },
    {
      "cell_type": "markdown",
      "source": [
        " The FIFA World Cup, a global football sporting event that takes place every four years, is in Qatar this year. This dataset contains 30,000 tweets from the first day of the FIFA World Cup 2022.The dataset includes tweets in English containing the hashtag #WorldCup2022."
      ],
      "metadata": {
        "id": "tpG3_EtkdTbQ"
      }
    },
    {
      "cell_type": "markdown",
      "source": [
        "**Objective of the notebook**"
      ],
      "metadata": {
        "id": "wczQrTKFdhA4"
      }
    },
    {
      "cell_type": "markdown",
      "source": [
        "\n",
        "\n",
        "*   Try Bidirectional LSTM model\n",
        "*   Try Transfer learning to see if there is *improvement*\n",
        "\n"
      ],
      "metadata": {
        "id": "dIHyapf-djiz"
      }
    },
    {
      "cell_type": "markdown",
      "source": [
        "**Dataset Description**"
      ],
      "metadata": {
        "id": "dvP2cwjgeAuI"
      }
    },
    {
      "cell_type": "markdown",
      "source": [
        "The dataset includes features such as\n",
        "\n",
        "*   Date Created\n",
        "*   Number of Likes\n",
        "*   Source of Tweet\n",
        "*   Tweet\n"
      ],
      "metadata": {
        "id": "Bj8yIofAeJHg"
      }
    },
    {
      "cell_type": "markdown",
      "source": [
        "2. **Importing Libraries**"
      ],
      "metadata": {
        "id": "uTiMCl3Jetgf"
      }
    },
    {
      "cell_type": "markdown",
      "source": [
        "Importing libraries that will be used in this notebook."
      ],
      "metadata": {
        "id": "3sV3tMM_e4Vy"
      }
    },
    {
      "cell_type": "code",
      "execution_count": null,
      "metadata": {
        "id": "MaPDHtY5AIJU"
      },
      "outputs": [],
      "source": [
        "import os\n",
        "import numpy as np\n",
        "import pandas as pd\n",
        "import seaborn as sns\n",
        "import matplotlib.pyplot as plt\n",
        "#from nltk.corpus import stopwords\n",
        "#from nltk.stem import WordNetLemmatizer\n",
        "#from nltk.tokenize import word_tokenize\n",
        "#from wordcloud import WordCloud,STOPWORDS\n",
        "#from bs4 import BeautifulSoup\n",
        "import re#,string,unicodedata\n",
        "\n",
        "#from sklearn.feature_extraction.text import CountVectorizer, TfidfVectorizer\n",
        "#from sklearn.linear_model import LogisticRegression\n",
        "#from sklearn.svm import LinearSVC\n",
        "#from sklearn.ensemble import GradientBoostingClassifier\n",
        "#from sklearn.naive_bayes import GaussianNB, MultinomialNB\n",
        "from sklearn.model_selection import train_test_split\n",
        "#from sklearn.metrics import classification_report, accuracy_score, confusion_matrix, plot_confusion_matrix, plot_roc_curve, plot_precision_recall_curve\n",
        "#from xgboost.sklearn import XGBClassifier\n",
        "from sklearn.preprocessing import LabelEncoder\n",
        "\n",
        "import tensorflow as tf\n",
        "from tensorflow.keras.preprocessing.text import Tokenizer\n",
        "from tensorflow.keras.preprocessing.sequence import pad_sequences\n",
        "#from tensorflow.keras.callbacks import ModelCheckpoint\n",
        "from tensorflow.keras.layers import Dense,Input, Embedding,LSTM,Dropout,Conv1D, MaxPooling1D, GlobalMaxPooling1D,Dropout,Bidirectional,Flatten,BatchNormalization\n",
        "#from tensorflow.keras.callbacks import EarlyStopping\n",
        "from tensorflow.keras.models import Model\n",
        "from tensorflow.keras.optimizers import Adam\n",
        "#from tensorflow.keras.utils import plot_model"
      ]
    },
    {
      "cell_type": "markdown",
      "source": [
        "3. **Reading Data Set**"
      ],
      "metadata": {
        "id": "GgTKVKOpfSGx"
      }
    },
    {
      "cell_type": "code",
      "source": [
        "df= pd.read_csv('/content/fifa_world_cup_2022_tweets.csv')"
      ],
      "metadata": {
        "id": "RjeYdmP_BNSe"
      },
      "execution_count": null,
      "outputs": []
    },
    {
      "cell_type": "code",
      "source": [
        "df.head()"
      ],
      "metadata": {
        "colab": {
          "base_uri": "https://localhost:8080/",
          "height": 354
        },
        "id": "dQnrzjamBZxk",
        "outputId": "d8e15e0b-a799-4642-b75f-9c7517ac3757"
      },
      "execution_count": null,
      "outputs": [
        {
          "output_type": "execute_result",
          "data": {
            "text/plain": [
              "   Unnamed: 0               Date Created  Number of Likes  \\\n",
              "0           0  2022-11-20 23:59:21+00:00                4   \n",
              "1           1  2022-11-20 23:59:01+00:00                3   \n",
              "2           2  2022-11-20 23:58:41+00:00                1   \n",
              "3           3  2022-11-20 23:58:33+00:00                1   \n",
              "4           4  2022-11-20 23:58:28+00:00                0   \n",
              "\n",
              "       Source of Tweet                                              Tweet  \\\n",
              "0      Twitter Web App  What are we drinking today @TucanTribe \\n@MadB...   \n",
              "1   Twitter for iPhone  Amazing @CanadaSoccerEN  #WorldCup2022 launch ...   \n",
              "2   Twitter for iPhone  Worth reading while watching #WorldCup2022 htt...   \n",
              "3      Twitter Web App  Golden Maknae shinning bright\\n\\nhttps://t.co/...   \n",
              "4  Twitter for Android  If the BBC cares so much about human rights, h...   \n",
              "\n",
              "  Sentiment  \n",
              "0   neutral  \n",
              "1  positive  \n",
              "2  positive  \n",
              "3  positive  \n",
              "4  negative  "
            ],
            "text/html": [
              "\n",
              "  <div id=\"df-a1170203-9083-4504-8575-a9b611e4527d\">\n",
              "    <div class=\"colab-df-container\">\n",
              "      <div>\n",
              "<style scoped>\n",
              "    .dataframe tbody tr th:only-of-type {\n",
              "        vertical-align: middle;\n",
              "    }\n",
              "\n",
              "    .dataframe tbody tr th {\n",
              "        vertical-align: top;\n",
              "    }\n",
              "\n",
              "    .dataframe thead th {\n",
              "        text-align: right;\n",
              "    }\n",
              "</style>\n",
              "<table border=\"1\" class=\"dataframe\">\n",
              "  <thead>\n",
              "    <tr style=\"text-align: right;\">\n",
              "      <th></th>\n",
              "      <th>Unnamed: 0</th>\n",
              "      <th>Date Created</th>\n",
              "      <th>Number of Likes</th>\n",
              "      <th>Source of Tweet</th>\n",
              "      <th>Tweet</th>\n",
              "      <th>Sentiment</th>\n",
              "    </tr>\n",
              "  </thead>\n",
              "  <tbody>\n",
              "    <tr>\n",
              "      <th>0</th>\n",
              "      <td>0</td>\n",
              "      <td>2022-11-20 23:59:21+00:00</td>\n",
              "      <td>4</td>\n",
              "      <td>Twitter Web App</td>\n",
              "      <td>What are we drinking today @TucanTribe \\n@MadB...</td>\n",
              "      <td>neutral</td>\n",
              "    </tr>\n",
              "    <tr>\n",
              "      <th>1</th>\n",
              "      <td>1</td>\n",
              "      <td>2022-11-20 23:59:01+00:00</td>\n",
              "      <td>3</td>\n",
              "      <td>Twitter for iPhone</td>\n",
              "      <td>Amazing @CanadaSoccerEN  #WorldCup2022 launch ...</td>\n",
              "      <td>positive</td>\n",
              "    </tr>\n",
              "    <tr>\n",
              "      <th>2</th>\n",
              "      <td>2</td>\n",
              "      <td>2022-11-20 23:58:41+00:00</td>\n",
              "      <td>1</td>\n",
              "      <td>Twitter for iPhone</td>\n",
              "      <td>Worth reading while watching #WorldCup2022 htt...</td>\n",
              "      <td>positive</td>\n",
              "    </tr>\n",
              "    <tr>\n",
              "      <th>3</th>\n",
              "      <td>3</td>\n",
              "      <td>2022-11-20 23:58:33+00:00</td>\n",
              "      <td>1</td>\n",
              "      <td>Twitter Web App</td>\n",
              "      <td>Golden Maknae shinning bright\\n\\nhttps://t.co/...</td>\n",
              "      <td>positive</td>\n",
              "    </tr>\n",
              "    <tr>\n",
              "      <th>4</th>\n",
              "      <td>4</td>\n",
              "      <td>2022-11-20 23:58:28+00:00</td>\n",
              "      <td>0</td>\n",
              "      <td>Twitter for Android</td>\n",
              "      <td>If the BBC cares so much about human rights, h...</td>\n",
              "      <td>negative</td>\n",
              "    </tr>\n",
              "  </tbody>\n",
              "</table>\n",
              "</div>\n",
              "      <button class=\"colab-df-convert\" onclick=\"convertToInteractive('df-a1170203-9083-4504-8575-a9b611e4527d')\"\n",
              "              title=\"Convert this dataframe to an interactive table.\"\n",
              "              style=\"display:none;\">\n",
              "        \n",
              "  <svg xmlns=\"http://www.w3.org/2000/svg\" height=\"24px\"viewBox=\"0 0 24 24\"\n",
              "       width=\"24px\">\n",
              "    <path d=\"M0 0h24v24H0V0z\" fill=\"none\"/>\n",
              "    <path d=\"M18.56 5.44l.94 2.06.94-2.06 2.06-.94-2.06-.94-.94-2.06-.94 2.06-2.06.94zm-11 1L8.5 8.5l.94-2.06 2.06-.94-2.06-.94L8.5 2.5l-.94 2.06-2.06.94zm10 10l.94 2.06.94-2.06 2.06-.94-2.06-.94-.94-2.06-.94 2.06-2.06.94z\"/><path d=\"M17.41 7.96l-1.37-1.37c-.4-.4-.92-.59-1.43-.59-.52 0-1.04.2-1.43.59L10.3 9.45l-7.72 7.72c-.78.78-.78 2.05 0 2.83L4 21.41c.39.39.9.59 1.41.59.51 0 1.02-.2 1.41-.59l7.78-7.78 2.81-2.81c.8-.78.8-2.07 0-2.86zM5.41 20L4 18.59l7.72-7.72 1.47 1.35L5.41 20z\"/>\n",
              "  </svg>\n",
              "      </button>\n",
              "      \n",
              "  <style>\n",
              "    .colab-df-container {\n",
              "      display:flex;\n",
              "      flex-wrap:wrap;\n",
              "      gap: 12px;\n",
              "    }\n",
              "\n",
              "    .colab-df-convert {\n",
              "      background-color: #E8F0FE;\n",
              "      border: none;\n",
              "      border-radius: 50%;\n",
              "      cursor: pointer;\n",
              "      display: none;\n",
              "      fill: #1967D2;\n",
              "      height: 32px;\n",
              "      padding: 0 0 0 0;\n",
              "      width: 32px;\n",
              "    }\n",
              "\n",
              "    .colab-df-convert:hover {\n",
              "      background-color: #E2EBFA;\n",
              "      box-shadow: 0px 1px 2px rgba(60, 64, 67, 0.3), 0px 1px 3px 1px rgba(60, 64, 67, 0.15);\n",
              "      fill: #174EA6;\n",
              "    }\n",
              "\n",
              "    [theme=dark] .colab-df-convert {\n",
              "      background-color: #3B4455;\n",
              "      fill: #D2E3FC;\n",
              "    }\n",
              "\n",
              "    [theme=dark] .colab-df-convert:hover {\n",
              "      background-color: #434B5C;\n",
              "      box-shadow: 0px 1px 3px 1px rgba(0, 0, 0, 0.15);\n",
              "      filter: drop-shadow(0px 1px 2px rgba(0, 0, 0, 0.3));\n",
              "      fill: #FFFFFF;\n",
              "    }\n",
              "  </style>\n",
              "\n",
              "      <script>\n",
              "        const buttonEl =\n",
              "          document.querySelector('#df-a1170203-9083-4504-8575-a9b611e4527d button.colab-df-convert');\n",
              "        buttonEl.style.display =\n",
              "          google.colab.kernel.accessAllowed ? 'block' : 'none';\n",
              "\n",
              "        async function convertToInteractive(key) {\n",
              "          const element = document.querySelector('#df-a1170203-9083-4504-8575-a9b611e4527d');\n",
              "          const dataTable =\n",
              "            await google.colab.kernel.invokeFunction('convertToInteractive',\n",
              "                                                     [key], {});\n",
              "          if (!dataTable) return;\n",
              "\n",
              "          const docLinkHtml = 'Like what you see? Visit the ' +\n",
              "            '<a target=\"_blank\" href=https://colab.research.google.com/notebooks/data_table.ipynb>data table notebook</a>'\n",
              "            + ' to learn more about interactive tables.';\n",
              "          element.innerHTML = '';\n",
              "          dataTable['output_type'] = 'display_data';\n",
              "          await google.colab.output.renderOutput(dataTable, element);\n",
              "          const docLink = document.createElement('div');\n",
              "          docLink.innerHTML = docLinkHtml;\n",
              "          element.appendChild(docLink);\n",
              "        }\n",
              "      </script>\n",
              "    </div>\n",
              "  </div>\n",
              "  "
            ]
          },
          "metadata": {},
          "execution_count": 4
        }
      ]
    },
    {
      "cell_type": "code",
      "source": [
        "df.shape"
      ],
      "metadata": {
        "colab": {
          "base_uri": "https://localhost:8080/"
        },
        "id": "94bUx1eaCajj",
        "outputId": "b5b510a5-30a6-4a13-8835-90db9cac2373"
      },
      "execution_count": null,
      "outputs": [
        {
          "output_type": "execute_result",
          "data": {
            "text/plain": [
              "(22524, 6)"
            ]
          },
          "metadata": {},
          "execution_count": 5
        }
      ]
    },
    {
      "cell_type": "code",
      "source": [
        "df.info()"
      ],
      "metadata": {
        "colab": {
          "base_uri": "https://localhost:8080/"
        },
        "id": "KgHCjgTfCagq",
        "outputId": "900f5135-23d5-4d82-883d-00a6b587ead6"
      },
      "execution_count": null,
      "outputs": [
        {
          "output_type": "stream",
          "name": "stdout",
          "text": [
            "<class 'pandas.core.frame.DataFrame'>\n",
            "RangeIndex: 22524 entries, 0 to 22523\n",
            "Data columns (total 6 columns):\n",
            " #   Column           Non-Null Count  Dtype \n",
            "---  ------           --------------  ----- \n",
            " 0   Unnamed: 0       22524 non-null  int64 \n",
            " 1   Date Created     22524 non-null  object\n",
            " 2   Number of Likes  22524 non-null  int64 \n",
            " 3   Source of Tweet  22524 non-null  object\n",
            " 4   Tweet            22524 non-null  object\n",
            " 5   Sentiment        22524 non-null  object\n",
            "dtypes: int64(2), object(4)\n",
            "memory usage: 1.0+ MB\n"
          ]
        }
      ]
    },
    {
      "cell_type": "markdown",
      "source": [
        "4. **Some data exploration**"
      ],
      "metadata": {
        "id": "4f9n6sebfXgG"
      }
    },
    {
      "cell_type": "code",
      "source": [
        "df['Sentiment'].value_counts(normalize=True)"
      ],
      "metadata": {
        "colab": {
          "base_uri": "https://localhost:8080/"
        },
        "id": "MbZLSILJBtWV",
        "outputId": "aef3c62f-15b3-4541-d09b-fa6992b18b81"
      },
      "execution_count": null,
      "outputs": [
        {
          "output_type": "execute_result",
          "data": {
            "text/plain": [
              "positive    0.376887\n",
              "neutral     0.366320\n",
              "negative    0.256793\n",
              "Name: Sentiment, dtype: float64"
            ]
          },
          "metadata": {},
          "execution_count": 7
        }
      ]
    },
    {
      "cell_type": "code",
      "source": [
        "sns.countplot(x='Sentiment', data=df)"
      ],
      "metadata": {
        "colab": {
          "base_uri": "https://localhost:8080/",
          "height": 466
        },
        "id": "WxbWWyclByy8",
        "outputId": "71b839fc-de31-4166-936f-ed026b043f06"
      },
      "execution_count": null,
      "outputs": [
        {
          "output_type": "execute_result",
          "data": {
            "text/plain": [
              "<Axes: xlabel='Sentiment', ylabel='count'>"
            ]
          },
          "metadata": {},
          "execution_count": 8
        },
        {
          "output_type": "display_data",
          "data": {
            "text/plain": [
              "<Figure size 640x480 with 1 Axes>"
            ],
            "image/png": "[encoded data removed]"
          },
          "metadata": {}
        }
      ]
    },
    {
      "cell_type": "code",
      "source": [
        "NUM_WORDS = 10000\n",
        "EMBEDDING_DIM = 64\n",
        "MAXLEN = 20\n",
        "PADDING = 'post'\n",
        "OOV_TOKEN = \"<OOV>\""
      ],
      "metadata": {
        "id": "raT-EgaBGcYx"
      },
      "execution_count": null,
      "outputs": []
    },
    {
      "cell_type": "code",
      "source": [
        "# List of abbreviations to be replaced\n",
        "abbreviations = {\n",
        "    \"aamof\" : \"as a matter of fact\",\n",
        "    \"acct\" : \"account\",\n",
        "    \"adih\" : \"another day in hell\",\n",
        "    \"afaic\" : \"as far as i am concerned\",\n",
        "    \"afaict\" : \"as far as i can tell\",\n",
        "    \"afaik\" : \"as far as i know\",\n",
        "    \"afair\" : \"as far as i remember\",\n",
        "    \"afk\" : \"away from keyboard\",\n",
        "    \"app\" : \"application\",\n",
        "    \"approx\" : \"approximately\",\n",
        "    \"apps\" : \"applications\",\n",
        "    \"asap\" : \"as soon as possible\",\n",
        "    \"asl\" : \"age, sex, location\",\n",
        "    \"atk\" : \"at the keyboard\",\n",
        "    \"ave.\" : \"avenue\",\n",
        "    \"aymm\" : \"are you my mother\",\n",
        "    \"ayor\" : \"at your own risk\",\n",
        "    \"b&b\" : \"bed and breakfast\",\n",
        "    \"b+b\" : \"bed and breakfast\",\n",
        "    \"b.c\" : \"before christ\",\n",
        "    \"b2b\" : \"business to business\",\n",
        "    \"b2c\" : \"business to customer\",\n",
        "    \"b4\" : \"before\",\n",
        "    \"b4n\" : \"bye for now\",\n",
        "    \"b@u\" : \"back at you\",\n",
        "    \"bae\" : \"before anyone else\",\n",
        "    \"bak\" : \"back at keyboard\",\n",
        "    \"bbbg\" : \"bye bye be good\",\n",
        "    \"bbc\" : \"british broadcasting corporation\",\n",
        "    \"bbias\" : \"be back in a second\",\n",
        "    \"bbl\" : \"be back later\",\n",
        "    \"bbs\" : \"be back soon\",\n",
        "    \"be4\" : \"before\",\n",
        "    \"bfn\" : \"bye for now\",\n",
        "    \"blvd\" : \"boulevard\",\n",
        "    \"bout\" : \"about\",\n",
        "    \"brb\" : \"be right back\",\n",
        "    \"bros\" : \"brothers\",\n",
        "    \"brt\" : \"be right there\",\n",
        "    \"bsaaw\" : \"big smile and a wink\",\n",
        "    \"btw\" : \"by the way\",\n",
        "    \"bwl\" : \"bursting with laughter\",\n",
        "    \"c/o\" : \"care of\",\n",
        "    \"cet\" : \"central european time\",\n",
        "    \"cf\" : \"compare\",\n",
        "    \"cia\" : \"central intelligence agency\",\n",
        "    \"csl\" : \"can not stop laughing\",\n",
        "    \"cu\" : \"see you\",\n",
        "    \"cul8r\" : \"see you later\",\n",
        "    \"cv\" : \"curriculum vitae\",\n",
        "    \"cwot\" : \"complete waste of time\",\n",
        "    \"cya\" : \"see you\",\n",
        "    \"cyt\" : \"see you tomorrow\",\n",
        "    \"dae\" : \"does anyone else\",\n",
        "    \"dbmib\" : \"do not bother me i am busy\",\n",
        "    \"diy\" : \"do it yourself\",\n",
        "    \"dm\" : \"direct message\",\n",
        "    \"dwh\" : \"during work hours\",\n",
        "    \"e123\" : \"easy as one two three\",\n",
        "    \"eet\" : \"eastern european time\",\n",
        "    \"eg\" : \"example\",\n",
        "    \"embm\" : \"early morning business meeting\",\n",
        "    \"encl\" : \"enclosed\",\n",
        "    \"encl.\" : \"enclosed\",\n",
        "    \"etc\" : \"and so on\",\n",
        "    \"faq\" : \"frequently asked questions\",\n",
        "    \"fawc\" : \"for anyone who cares\",\n",
        "    \"fb\" : \"facebook\",\n",
        "    \"fc\" : \"fingers crossed\",\n",
        "    \"fig\" : \"figure\",\n",
        "    \"fimh\" : \"forever in my heart\",\n",
        "    \"ft.\" : \"feet\",\n",
        "    \"ft\" : \"featuring\",\n",
        "    \"ftl\" : \"for the loss\",\n",
        "    \"ftw\" : \"for the win\",\n",
        "    \"fwiw\" : \"for what it is worth\",\n",
        "    \"fyi\" : \"for your information\",\n",
        "    \"g9\" : \"genius\",\n",
        "    \"gahoy\" : \"get a hold of yourself\",\n",
        "    \"gal\" : \"get a life\",\n",
        "    \"gcse\" : \"general certificate of secondary education\",\n",
        "    \"gfn\" : \"gone for now\",\n",
        "    \"gg\" : \"good game\",\n",
        "    \"gl\" : \"good luck\",\n",
        "    \"glhf\" : \"good luck have fun\",\n",
        "    \"gmt\" : \"greenwich mean time\",\n",
        "    \"gmta\" : \"great minds think alike\",\n",
        "    \"gn\" : \"good night\",\n",
        "    \"g.o.a.t\" : \"greatest of all time\",\n",
        "    \"goat\" : \"greatest of all time\",\n",
        "    \"goi\" : \"get over it\",\n",
        "    \"gps\" : \"global positioning system\",\n",
        "    \"gr8\" : \"great\",\n",
        "    \"gratz\" : \"congratulations\",\n",
        "    \"gyal\" : \"girl\",\n",
        "    \"h&c\" : \"hot and cold\",\n",
        "    \"hp\" : \"horsepower\",\n",
        "    \"hr\" : \"hour\",\n",
        "    \"hrh\" : \"his royal highness\",\n",
        "    \"ht\" : \"height\",\n",
        "    \"ibrb\" : \"i will be right back\",\n",
        "    \"ic\" : \"i see\",\n",
        "    \"icq\" : \"i seek you\",\n",
        "    \"icymi\" : \"in case you missed it\",\n",
        "    \"idc\" : \"i do not care\",\n",
        "    \"idgadf\" : \"i do not give a damn fuck\",\n",
        "    \"idgaf\" : \"i do not give a fuck\",\n",
        "    \"idk\" : \"i do not know\",\n",
        "    \"ie\" : \"that is\",\n",
        "    \"i.e\" : \"that is\",\n",
        "    \"ifyp\" : \"i feel your pain\",\n",
        "    \"IG\" : \"instagram\",\n",
        "    \"iirc\" : \"if i remember correctly\",\n",
        "    \"ilu\" : \"i love you\",\n",
        "    \"ily\" : \"i love you\",\n",
        "    \"imho\" : \"in my humble opinion\",\n",
        "    \"imo\" : \"in my opinion\",\n",
        "    \"imu\" : \"i miss you\",\n",
        "    \"iow\" : \"in other words\",\n",
        "    \"irl\" : \"in real life\",\n",
        "    \"j4f\" : \"just for fun\",\n",
        "    \"jic\" : \"just in case\",\n",
        "    \"jk\" : \"just kidding\",\n",
        "    \"jsyk\" : \"just so you know\",\n",
        "    \"l8r\" : \"later\",\n",
        "    \"lb\" : \"pound\",\n",
        "    \"lbs\" : \"pounds\",\n",
        "    \"ldr\" : \"long distance relationship\",\n",
        "    \"lmao\" : \"laugh my ass off\",\n",
        "    \"lmfao\" : \"laugh my fucking ass off\",\n",
        "    \"lol\" : \"laughing out loud\",\n",
        "    \"ltd\" : \"limited\",\n",
        "    \"ltns\" : \"long time no see\",\n",
        "    \"m8\" : \"mate\",\n",
        "    \"mf\" : \"motherfucker\",\n",
        "    \"mfs\" : \"motherfuckers\",\n",
        "    \"mfw\" : \"my face when\",\n",
        "    \"mofo\" : \"motherfucker\",\n",
        "    \"mph\" : \"miles per hour\",\n",
        "    \"mr\" : \"mister\",\n",
        "    \"mrw\" : \"my reaction when\",\n",
        "    \"ms\" : \"miss\",\n",
        "    \"mte\" : \"my thoughts exactly\",\n",
        "    \"nagi\" : \"not a good idea\",\n",
        "    \"nbc\" : \"national broadcasting company\",\n",
        "    \"nbd\" : \"not big deal\",\n",
        "    \"nfs\" : \"not for sale\",\n",
        "    \"ngl\" : \"not going to lie\",\n",
        "    \"nhs\" : \"national health service\",\n",
        "    \"nrn\" : \"no reply necessary\",\n",
        "    \"nsfl\" : \"not safe for life\",\n",
        "    \"nsfw\" : \"not safe for work\",\n",
        "    \"nth\" : \"nice to have\",\n",
        "    \"nvr\" : \"never\",\n",
        "    \"nyc\" : \"new york city\",\n",
        "    \"oc\" : \"original content\",\n",
        "    \"og\" : \"original\",\n",
        "    \"ohp\" : \"overhead projector\",\n",
        "    \"oic\" : \"oh i see\",\n",
        "    \"omdb\" : \"over my dead body\",\n",
        "    \"omg\" : \"oh my god\",\n",
        "    \"omw\" : \"on my way\",\n",
        "    \"p.a\" : \"per annum\",\n",
        "    \"p.m\" : \"after midday\",\n",
        "    \"pm\" : \"prime minister\",\n",
        "    \"poc\" : \"people of color\",\n",
        "    \"pov\" : \"point of view\",\n",
        "    \"pp\" : \"pages\",\n",
        "    \"ppl\" : \"people\",\n",
        "    \"prw\" : \"parents are watching\",\n",
        "    \"ps\" : \"postscript\",\n",
        "    \"pt\" : \"point\",\n",
        "    \"ptb\" : \"please text back\",\n",
        "    \"pto\" : \"please turn over\",\n",
        "    \"qpsa\" : \"what happens\",\n",
        "    \"ratchet\" : \"rude\",\n",
        "    \"rbtl\" : \"read between the lines\",\n",
        "    \"rlrt\" : \"real life retweet\",\n",
        "    \"rofl\" : \"rolling on the floor laughing\",\n",
        "    \"roflol\" : \"rolling on the floor laughing out loud\",\n",
        "    \"rotflmao\" : \"rolling on the floor laughing my ass off\",\n",
        "    \"rt\" : \"retweet\",\n",
        "    \"ruok\" : \"are you ok\",\n",
        "    \"sfw\" : \"safe for work\",\n",
        "     \"sk8\" : \"skate\",\n",
        "    \"smh\" : \"shake my head\",\n",
        "    \"sq\" : \"square\",\n",
        "    \"srsly\" : \"seriously\",\n",
        "    \"ssdd\" : \"same stuff different day\",\n",
        "    \"tbh\" : \"to be honest\",\n",
        "    \"tbs\" : \"tablespooful\",\n",
        "    \"tbsp\" : \"tablespooful\",\n",
        "    \"tfw\" : \"that feeling when\",\n",
        "    \"thks\" : \"thank you\",\n",
        "    \"tho\" : \"though\",\n",
        "    \"thx\" : \"thank you\",\n",
        "    \"tia\" : \"thanks in advance\",\n",
        "    \"til\" : \"today i learned\",\n",
        "    \"tl;dr\" : \"too long i did not read\",\n",
        "    \"tldr\" : \"too long i did not read\",\n",
        "    \"tmb\" : \"tweet me back\",\n",
        "    \"tntl\" : \"trying not to laugh\",\n",
        "    \"ttyl\" : \"talk to you later\",\n",
        "    \"u\" : \"you\",\n",
        "    \"u2\" : \"you too\",\n",
        "    \"u4e\" : \"yours for ever\",\n",
        "    \"utc\" : \"coordinated universal time\",\n",
        "    \"w/\" : \"with\",\n",
        "    \"w/o\" : \"without\",\n",
        "    \"w8\" : \"wait\",\n",
        "    \"wassup\" : \"what is up\",\n",
        "    \"wb\" : \"welcome back\",\n",
        "    \"wtf\" : \"what the fuck\",\n",
        "    \"wtg\" : \"way to go\",\n",
        "    \"wtpa\" : \"where the party at\",\n",
        "    \"wuf\" : \"where are you from\",\n",
        "    \"wuzup\" : \"what is up\",\n",
        "    \"wywh\" : \"wish you were here\",\n",
        "    \"yd\" : \"yard\",\n",
        "    \"ygtr\" : \"you got that right\",\n",
        "    \"ynk\" : \"you never know\",\n",
        "    \"zzz\" : \"sleeping bored and tired\",\n",
        "}"
      ],
      "metadata": {
        "id": "ve2ya7bXLJZt"
      },
      "execution_count": null,
      "outputs": []
    },
    {
      "cell_type": "code",
      "source": [
        "# List of Contractions to be removed\n",
        "contractions = {\n",
        "    \"a'ight\":\"alright\",\n",
        "    \"ain't\":\"are not\",\n",
        "    \"amn't\":\"am not\",\n",
        "    \"aren't\":\"are not\",\n",
        "    \"can't\":\"cannot\",\n",
        "    \"'cause\": \"because\",\n",
        "    \"could've\":\"could have\",\n",
        "    \"couldn't\":\"could not\",\n",
        "    \"couldn't've\":\"could not have\",\n",
        "    \"daren't\":\"dare not\",\n",
        "    \"daresn't\":\"dare not\",\n",
        "    \"dasn't\":\"dare not\",\n",
        "    \"didn't\":\"did not\",\n",
        "    \"doesn't\":\"does not\",\n",
        "    \"don't\":\"do not\",\n",
        "    \"everybody's\":\"everybody is\",\n",
        "    \"everyone's\":\"everyone is\",\n",
        "    \"giv'n\":\"given\",\n",
        "    \"gonna\":\"going to\",\n",
        "    \"gon't\":\"go not\",\n",
        "    \"gotta\":\"got to\",\n",
        "    \"hadn't\":\"had not\",\n",
        "    \"had've\":\"had have\",\n",
        "    \"hasn't\":\"has not\",\n",
        "    \"haven't\":\"have not\",\n",
        "    \"he'd\":\"he had\",\n",
        "    \"he'll\":\"he will\",\n",
        "    \"he's\":\"he is\",\n",
        "    \"here's\":\"here is\",\n",
        "    \"how'd\":\"how did\",\n",
        "    \"how'll\":\"how will\",\n",
        "    \"how're\":\"how are\",\n",
        "    \"how's\":\"how is\",\n",
        "    \"I'd\":\"I had\",\n",
        "    \"I'd've\":\"I would have\",\n",
        "    \"I'd'nt\":\"I would not\",\n",
        "    \"I'd'nt've\":\"I would not have\",\n",
        "    \"I'll\":\"I will\",\n",
        "    \"I'm\":\"I am\",\n",
        "    \"I've\":\"I have\",\n",
        "    \"isn't\":\"is not\",\n",
        "    \"it'd\":\"it would\",\n",
        "    \"it'll\":\"it will\",\n",
        "    \"it's\":\"it is\",\n",
        "    \"let's\":\"let us\",\n",
        "    \"ma'am\":\"madam\",\n",
        "    \"mayn't\":\"may not\",\n",
        "    \"may've\":\"may have\",\n",
        "    \"mightn't\":\"might not\",\n",
        "    \"might've\":\"might have\",\n",
        "    \"mustn't\":\"must not\",\n",
        "    \"mustn't've\":\"must not have\",\n",
        "    \"must've\":\"must have\",\n",
        "    \"needn't\":\"need not\",\n",
        "    \"needn't've\":\"need not have\",\n",
        "    \"o'clock\":\"of the clock\",\n",
        "    \"oughtn't\":\"ought not\",\n",
        "    \"oughtn't've\":\"ought not have\",\n",
        "    \"shan't\":\"shall not\",\n",
        "    \"she'd\":\"she would\",\n",
        "    \"she'll\":\"she will\",\n",
        "    \"she's\":\"she is\",\n",
        "    \"should've\":\"should have\",\n",
        "    \"shouldn't\":\"should not\",\n",
        "    \"shouldn't've\":\"should not have\",\n",
        "    \"somebody's\":\"somebody is\",\n",
        "    \"someone's\":\"someone is\",\n",
        "    \"something's\":\"something is\",\n",
        "    \"so're\":\"so are\",\n",
        "    \"so’s\":\"so is\",\n",
        "    \"so’ve\":\"so have\",\n",
        "    \"that'll\":\"that will\",\n",
        "    \"that're\":\"that are\",\n",
        "    \"that's\":\"that is\",\n",
        "    \"that'd\":\"that would\",\n",
        "    \"there'd\":\"there would\",\n",
        "    \"there'll\":\"there will\",\n",
        "    \"there're\":\"there are\",\n",
        "    \"there's\":\"there is\",\n",
        "    \"these're\":\"these are\",\n",
        "    \"these've\":\"these have\",\n",
        "    \"they'd\":\"they would\",\n",
        "    \"they'll\":\"they will\",\n",
        "    \"they're\":\"they are\",\n",
        "    \"they've\":\"they have\",\n",
        "    \"this's\":\"this is\",\n",
        "    \"those're\":\"those are\",\n",
        "    \"those've\":\"those have\",\n",
        "    \"to've\":\"to have\",\n",
        "    \"wasn't\":\"was not\",\n",
        "    \"we'd\":\"we would\",\n",
        "    \"we'd've\":\"we would have\",\n",
        "    \"we'll\":\"we will\",\n",
        "    \"we're\":\"we are\",\n",
        "    \"we've\":\"we have\",\n",
        "    \"weren't\":\"were not\",\n",
        "    \"what'd\":\"what did\",\n",
        "    \"what'll\":\"what will\",\n",
        "    \"what're\":\"what are\",\n",
        "    \"what's\":\"what is\",\n",
        "    \"what've\":\"what have\",\n",
        "    \"when's\":\"when is\",\n",
        "    \"where'd\":\"where did\",\n",
        "    \"where'll\":\"where will\",\n",
        "    \"where're\":\"where are\",\n",
        "    \"where's\":\"where is\",\n",
        "    \"where've\":\"where have\",\n",
        "    \"which'd\":\"which would\",\n",
        "    \"which'll\":\"which will\",\n",
        "    \"which're\":\"which are\",\n",
        "    \"which's\":\"which is\",\n",
        "    \"which've\":\"which have\",\n",
        "    \"who'd\":\"who would\",\n",
        "    \"who'd've\":\"who would have\",\n",
        "    \"who'll\":\"who will\",\n",
        "    \"who're\":\"who are\",\n",
        "    \"who's\":\"who is\",\n",
        "    \"who've\":\"who have\",\n",
        "    \"why'd\":\"why did\",\n",
        "    \"why're\":\"why are\",\n",
        "    \"why's\":\"why is\",\n",
        "    \"won't\":\"will not\",\n",
        "    \"would've\":\"would have\",\n",
        "    \"wouldn't\":\"would not\",\n",
        "    \"wouldn't've\":\"would not have\",\n",
        "    \"y'at\":\"you at\",\n",
        "    \"yes’m\":\"yes madam\",\n",
        "    \"you'd\":\"you would\",\n",
        "    \"you'll\":\"you will\",\n",
        "    \"you're\":\"you are\",\n",
        "    \"you've\":\"you have\"\n",
        "}"
      ],
      "metadata": {
        "id": "G67zmFlrRE9b"
      },
      "execution_count": null,
      "outputs": []
    },
    {
      "cell_type": "markdown",
      "source": [
        "5. **Data Preprocessing**"
      ],
      "metadata": {
        "id": "x68lHc6JgKo-"
      }
    },
    {
      "cell_type": "markdown",
      "source": [
        "We have to adjust column 'Tweet'.\n",
        "\n",
        "\n",
        "*   Changing the abbrevation to the full word. The function\n",
        "    I used is 'change_abbre()'\n",
        "*   Remove stop_words.  The function I used is\n",
        "    'remove_stopwords()'\n",
        "\n",
        "*   Changing the contraction to the full word. The function\n",
        "    I used is 'change_con()'\n",
        "*   The last function I used was 'clean_text', which was responsible for removing the emoji's, sentences with html tags, add space after full stop and removing url.\n",
        "\n",
        "\n",
        "\n"
      ],
      "metadata": {
        "id": "BKEs-qRcgU__"
      }
    },
    {
      "cell_type": "code",
      "source": [
        "def change_abbre(sentence):\n",
        "    \"\"\"\n",
        "    Change the abbrevation to full word\n",
        "\n",
        "    Args:\n",
        "        sentence (string): sentence to change\n",
        "\n",
        "    Returns:\n",
        "        sentence (string): lowercase sentence without the abbrevation\n",
        "    \"\"\"\n",
        "\n",
        "    sentence = sentence.lower()\n",
        "    words = sentence.split()\n",
        "    key=  abbreviations.keys()\n",
        "\n",
        "    new_words = []\n",
        "    for word in words:\n",
        "        if word in key:\n",
        "          word = abbreviations[word]\n",
        "\n",
        "        new_words.append(word)\n",
        "\n",
        "\n",
        "    sentence = \" \".join(new_words)\n",
        "\n",
        "    return sentence"
      ],
      "metadata": {
        "id": "KvoSDyMZFo77"
      },
      "execution_count": null,
      "outputs": []
    },
    {
      "cell_type": "code",
      "source": [
        "def remove_stopwords(sentence):\n",
        "    # List of stopwords\n",
        "    stopwords = [\"a\", \"about\", \"above\", \"after\", \"again\", \"against\", \"all\", \"am\", \"an\", \"and\", \"any\", \"are\", \"as\", \"at\", \"be\", \"because\", \"been\", \"before\", \"being\", \"below\", \"between\", \"both\", \"but\", \"by\", \"could\", \"did\", \"do\", \"does\", \"doing\", \"down\", \"during\", \"each\", \"few\", \"for\", \"from\", \"further\", \"had\", \"has\", \"have\", \"having\", \"he\", \"he'd\", \"he'll\", \"he's\", \"her\", \"here\", \"here's\", \"hers\", \"herself\", \"him\", \"himself\", \"his\", \"how\", \"how's\", \"i\", \"i'd\", \"i'll\", \"i'm\", \"i've\", \"if\", \"in\", \"into\", \"is\", \"it\", \"it's\", \"its\", \"itself\", \"let's\", \"me\", \"more\", \"most\", \"my\", \"myself\", \"nor\", \"of\", \"on\", \"once\", \"only\", \"or\", \"other\", \"ought\", \"our\", \"ours\", \"ourselves\", \"out\", \"over\", \"own\", \"same\", \"she\", \"she'd\", \"she'll\", \"she's\", \"should\", \"so\", \"some\", \"such\", \"than\", \"that\", \"that's\", \"the\", \"their\", \"theirs\", \"them\", \"themselves\", \"then\", \"there\", \"there's\", \"these\", \"they\", \"they'd\", \"they'll\", \"they're\", \"they've\", \"this\", \"those\", \"through\", \"to\", \"too\", \"under\", \"until\", \"up\", \"very\", \"was\", \"we\", \"we'd\", \"we'll\", \"we're\", \"we've\", \"were\", \"what\", \"what's\", \"when\", \"when's\", \"where\", \"where's\", \"which\", \"while\", \"who\", \"who's\", \"whom\", \"why\", \"why's\", \"with\", \"would\", \"you\", \"you'd\", \"you'll\", \"you're\", \"you've\", \"your\", \"yours\", \"yourself\", \"yourselves\" ]\n",
        "\n",
        "    # Sentence converted to lowercase-only\n",
        "    sentence = sentence.lower()\n",
        "\n",
        "    words = sentence.split()\n",
        "    no_words = [w for w in words if w not in stopwords]\n",
        "    sentence = \" \".join(no_words)\n",
        "\n",
        "    return sentence"
      ],
      "metadata": {
        "id": "wPWbdSf0GJUc"
      },
      "execution_count": null,
      "outputs": []
    },
    {
      "cell_type": "code",
      "source": [
        "def change_cont(sentence):\n",
        "    \"\"\"\n",
        "    Change the contractions to full word\n",
        "\n",
        "    Args:\n",
        "        sentence (string): sentence to change\n",
        "\n",
        "    Returns:\n",
        "        sentence (string): lowercase sentence without the contractions\n",
        "    \"\"\"\n",
        "\n",
        "    sentence = sentence.lower()\n",
        "    words = sentence.split()\n",
        "    key=  contractions.keys()\n",
        "\n",
        "    new_words = []\n",
        "    for word in words:\n",
        "        if word in key:\n",
        "          word = contractions[word]\n",
        "\n",
        "        new_words.append(word)\n",
        "\n",
        "\n",
        "    sentence = \" \".join(new_words)\n",
        "\n",
        "    return sentence"
      ],
      "metadata": {
        "id": "2kIUaJd4Qjpt"
      },
      "execution_count": null,
      "outputs": []
    },
    {
      "cell_type": "code",
      "source": [
        "def clean_text(text):\n",
        "    #soup = BeautifulSoup(text, \"html.parser\") #remove html tags\n",
        "    #text = soup.get_text()\n",
        "    #text = ' '.join([mapping[t] if t in mapping else t for t in text.split(\" \")]) #expanding chatwords and contracts clearing contractions\n",
        "    emoji_clean= re.compile(\"[\"\n",
        "                           u\"\\U0001F600-\\U0001F64F\"  # emoticons\n",
        "                           u\"\\U0001F300-\\U0001F5FF\"  # symbols & pictographs\n",
        "                           u\"\\U0001F680-\\U0001F6FF\"  # transport & map symbols\n",
        "                           u\"\\U0001F1E0-\\U0001F1FF\"  # flags (iOS)\n",
        "                           u\"\\U00002702-\\U000027B0\"\n",
        "                           u\"\\U000024C2-\\U0001F251\"\n",
        "                           \"]+\", flags=re.UNICODE)\n",
        "    text = emoji_clean.sub(r'',text)\n",
        "    text = re.sub(r'\\.(?=\\S)', '. ',text) #add space after full stop\n",
        "    text = re.sub(r'http\\S+', '', text) #remove urls\n",
        "    return text"
      ],
      "metadata": {
        "id": "r0kA9rchRum6"
      },
      "execution_count": null,
      "outputs": []
    },
    {
      "cell_type": "code",
      "source": [
        "df['Tweet'] = df['Tweet'].apply(clean_text)\n",
        "df['Tweet'] = df['Tweet'].apply(change_abbre)\n",
        "df['Tweet'] = df['Tweet'].apply(remove_stopwords)\n",
        "df['Tweet'] = df['Tweet'].apply(change_cont)"
      ],
      "metadata": {
        "id": "pxNeO73GSsmJ"
      },
      "execution_count": null,
      "outputs": []
    },
    {
      "cell_type": "code",
      "source": [
        "#To see the changes\n",
        "df.head()"
      ],
      "metadata": {
        "colab": {
          "base_uri": "https://localhost:8080/",
          "height": 354
        },
        "id": "YZvanWxMTGOM",
        "outputId": "319c2cfd-c14a-4725-af86-5d4a35bd5ba8"
      },
      "execution_count": null,
      "outputs": [
        {
          "output_type": "execute_result",
          "data": {
            "text/plain": [
              "   Unnamed: 0               Date Created  Number of Likes  \\\n",
              "0           0  2022-11-20 23:59:21+00:00                4   \n",
              "1           1  2022-11-20 23:59:01+00:00                3   \n",
              "2           2  2022-11-20 23:58:41+00:00                1   \n",
              "3           3  2022-11-20 23:58:33+00:00                1   \n",
              "4           4  2022-11-20 23:58:28+00:00                0   \n",
              "\n",
              "       Source of Tweet                                              Tweet  \\\n",
              "0      Twitter Web App  drinking today @tucantribe @madbears_ @lkinc_a...   \n",
              "1   Twitter for iPhone  amazing @canadasocceren #worldcup2022 launch v...   \n",
              "2   Twitter for iPhone  worth reading watching #worldcup2022 co/1sqrna...   \n",
              "3      Twitter Web App  golden maknae shinning bright co/4ayzbzgtx4 #j...   \n",
              "4  Twitter for Android  british broadcasting corporation cares much hu...   \n",
              "\n",
              "  Sentiment  \n",
              "0   neutral  \n",
              "1  positive  \n",
              "2  positive  \n",
              "3  positive  \n",
              "4  negative  "
            ],
            "text/html": [
              "\n",
              "  <div id=\"df-354a3bac-abf5-49a8-8128-e866299e3163\">\n",
              "    <div class=\"colab-df-container\">\n",
              "      <div>\n",
              "<style scoped>\n",
              "    .dataframe tbody tr th:only-of-type {\n",
              "        vertical-align: middle;\n",
              "    }\n",
              "\n",
              "    .dataframe tbody tr th {\n",
              "        vertical-align: top;\n",
              "    }\n",
              "\n",
              "    .dataframe thead th {\n",
              "        text-align: right;\n",
              "    }\n",
              "</style>\n",
              "<table border=\"1\" class=\"dataframe\">\n",
              "  <thead>\n",
              "    <tr style=\"text-align: right;\">\n",
              "      <th></th>\n",
              "      <th>Unnamed: 0</th>\n",
              "      <th>Date Created</th>\n",
              "      <th>Number of Likes</th>\n",
              "      <th>Source of Tweet</th>\n",
              "      <th>Tweet</th>\n",
              "      <th>Sentiment</th>\n",
              "    </tr>\n",
              "  </thead>\n",
              "  <tbody>\n",
              "    <tr>\n",
              "      <th>0</th>\n",
              "      <td>0</td>\n",
              "      <td>2022-11-20 23:59:21+00:00</td>\n",
              "      <td>4</td>\n",
              "      <td>Twitter Web App</td>\n",
              "      <td>drinking today @tucantribe @madbears_ @lkinc_a...</td>\n",
              "      <td>neutral</td>\n",
              "    </tr>\n",
              "    <tr>\n",
              "      <th>1</th>\n",
              "      <td>1</td>\n",
              "      <td>2022-11-20 23:59:01+00:00</td>\n",
              "      <td>3</td>\n",
              "      <td>Twitter for iPhone</td>\n",
              "      <td>amazing @canadasocceren #worldcup2022 launch v...</td>\n",
              "      <td>positive</td>\n",
              "    </tr>\n",
              "    <tr>\n",
              "      <th>2</th>\n",
              "      <td>2</td>\n",
              "      <td>2022-11-20 23:58:41+00:00</td>\n",
              "      <td>1</td>\n",
              "      <td>Twitter for iPhone</td>\n",
              "      <td>worth reading watching #worldcup2022 co/1sqrna...</td>\n",
              "      <td>positive</td>\n",
              "    </tr>\n",
              "    <tr>\n",
              "      <th>3</th>\n",
              "      <td>3</td>\n",
              "      <td>2022-11-20 23:58:33+00:00</td>\n",
              "      <td>1</td>\n",
              "      <td>Twitter Web App</td>\n",
              "      <td>golden maknae shinning bright co/4ayzbzgtx4 #j...</td>\n",
              "      <td>positive</td>\n",
              "    </tr>\n",
              "    <tr>\n",
              "      <th>4</th>\n",
              "      <td>4</td>\n",
              "      <td>2022-11-20 23:58:28+00:00</td>\n",
              "      <td>0</td>\n",
              "      <td>Twitter for Android</td>\n",
              "      <td>british broadcasting corporation cares much hu...</td>\n",
              "      <td>negative</td>\n",
              "    </tr>\n",
              "  </tbody>\n",
              "</table>\n",
              "</div>\n",
              "      <button class=\"colab-df-convert\" onclick=\"convertToInteractive('df-354a3bac-abf5-49a8-8128-e866299e3163')\"\n",
              "              title=\"Convert this dataframe to an interactive table.\"\n",
              "              style=\"display:none;\">\n",
              "        \n",
              "  <svg xmlns=\"http://www.w3.org/2000/svg\" height=\"24px\"viewBox=\"0 0 24 24\"\n",
              "       width=\"24px\">\n",
              "    <path d=\"M0 0h24v24H0V0z\" fill=\"none\"/>\n",
              "    <path d=\"M18.56 5.44l.94 2.06.94-2.06 2.06-.94-2.06-.94-.94-2.06-.94 2.06-2.06.94zm-11 1L8.5 8.5l.94-2.06 2.06-.94-2.06-.94L8.5 2.5l-.94 2.06-2.06.94zm10 10l.94 2.06.94-2.06 2.06-.94-2.06-.94-.94-2.06-.94 2.06-2.06.94z\"/><path d=\"M17.41 7.96l-1.37-1.37c-.4-.4-.92-.59-1.43-.59-.52 0-1.04.2-1.43.59L10.3 9.45l-7.72 7.72c-.78.78-.78 2.05 0 2.83L4 21.41c.39.39.9.59 1.41.59.51 0 1.02-.2 1.41-.59l7.78-7.78 2.81-2.81c.8-.78.8-2.07 0-2.86zM5.41 20L4 18.59l7.72-7.72 1.47 1.35L5.41 20z\"/>\n",
              "  </svg>\n",
              "      </button>\n",
              "      \n",
              "  <style>\n",
              "    .colab-df-container {\n",
              "      display:flex;\n",
              "      flex-wrap:wrap;\n",
              "      gap: 12px;\n",
              "    }\n",
              "\n",
              "    .colab-df-convert {\n",
              "      background-color: #E8F0FE;\n",
              "      border: none;\n",
              "      border-radius: 50%;\n",
              "      cursor: pointer;\n",
              "      display: none;\n",
              "      fill: #1967D2;\n",
              "      height: 32px;\n",
              "      padding: 0 0 0 0;\n",
              "      width: 32px;\n",
              "    }\n",
              "\n",
              "    .colab-df-convert:hover {\n",
              "      background-color: #E2EBFA;\n",
              "      box-shadow: 0px 1px 2px rgba(60, 64, 67, 0.3), 0px 1px 3px 1px rgba(60, 64, 67, 0.15);\n",
              "      fill: #174EA6;\n",
              "    }\n",
              "\n",
              "    [theme=dark] .colab-df-convert {\n",
              "      background-color: #3B4455;\n",
              "      fill: #D2E3FC;\n",
              "    }\n",
              "\n",
              "    [theme=dark] .colab-df-convert:hover {\n",
              "      background-color: #434B5C;\n",
              "      box-shadow: 0px 1px 3px 1px rgba(0, 0, 0, 0.15);\n",
              "      filter: drop-shadow(0px 1px 2px rgba(0, 0, 0, 0.3));\n",
              "      fill: #FFFFFF;\n",
              "    }\n",
              "  </style>\n",
              "\n",
              "      <script>\n",
              "        const buttonEl =\n",
              "          document.querySelector('#df-354a3bac-abf5-49a8-8128-e866299e3163 button.colab-df-convert');\n",
              "        buttonEl.style.display =\n",
              "          google.colab.kernel.accessAllowed ? 'block' : 'none';\n",
              "\n",
              "        async function convertToInteractive(key) {\n",
              "          const element = document.querySelector('#df-354a3bac-abf5-49a8-8128-e866299e3163');\n",
              "          const dataTable =\n",
              "            await google.colab.kernel.invokeFunction('convertToInteractive',\n",
              "                                                     [key], {});\n",
              "          if (!dataTable) return;\n",
              "\n",
              "          const docLinkHtml = 'Like what you see? Visit the ' +\n",
              "            '<a target=\"_blank\" href=https://colab.research.google.com/notebooks/data_table.ipynb>data table notebook</a>'\n",
              "            + ' to learn more about interactive tables.';\n",
              "          element.innerHTML = '';\n",
              "          dataTable['output_type'] = 'display_data';\n",
              "          await google.colab.output.renderOutput(dataTable, element);\n",
              "          const docLink = document.createElement('div');\n",
              "          docLink.innerHTML = docLinkHtml;\n",
              "          element.appendChild(docLink);\n",
              "        }\n",
              "      </script>\n",
              "    </div>\n",
              "  </div>\n",
              "  "
            ]
          },
          "metadata": {},
          "execution_count": 19
        }
      ]
    },
    {
      "cell_type": "markdown",
      "source": [
        "6. **Split the dataset**"
      ],
      "metadata": {
        "id": "eqOCH4pGiDCX"
      }
    },
    {
      "cell_type": "markdown",
      "source": [
        "Spliting 'Tweet' and 'Sentiment' columns to train and test set with test size of 0.3."
      ],
      "metadata": {
        "id": "kr_XJzXdiN6Y"
      }
    },
    {
      "cell_type": "code",
      "source": [
        "train_text, test_text, train_labels, test_labels = train_test_split(df[\"Tweet\"],df[\"Sentiment\"], test_size=0.3, random_state=42)"
      ],
      "metadata": {
        "id": "MI6429gaUom0"
      },
      "execution_count": null,
      "outputs": []
    },
    {
      "cell_type": "code",
      "source": [
        "#train_labels = np.array(train_labels)\n",
        "#test_labels = np.array(test_labels)"
      ],
      "metadata": {
        "id": "A6y9kP5yU2BK"
      },
      "execution_count": null,
      "outputs": []
    },
    {
      "cell_type": "markdown",
      "source": [
        "7. **Preparing the data**"
      ],
      "metadata": {
        "id": "Qct10kjcitui"
      }
    },
    {
      "cell_type": "code",
      "source": [
        "def fit_tokenizer(train_sentences, num_words, oov_token):\n",
        "    \"\"\"\n",
        "    Instantiates the Tokenizer class on the training sentences\n",
        "\n",
        "    Args:\n",
        "        train_sentences (list of string): lower-cased sentences without stopwords to be used for training\n",
        "        num_words (int) - number of words to keep when tokenizing\n",
        "        oov_token (string) - symbol for the out-of-vocabulary token\n",
        "\n",
        "    Returns:\n",
        "        tokenizer (object): an instance of the Tokenizer class containing the word-index dictionary\n",
        "    \"\"\"\n",
        "\n",
        "    # Instantiate the Tokenizer class, passing in the correct values for num_words and oov_token\n",
        "    tokenizer = Tokenizer(num_words = num_words , oov_token = oov_token)\n",
        "\n",
        "    # Fit the tokenizer to the training sentences\n",
        "    tokenizer.fit_on_texts(train_sentences)\n",
        "\n",
        "    return tokenizer"
      ],
      "metadata": {
        "id": "b3_l05dDVJEt"
      },
      "execution_count": null,
      "outputs": []
    },
    {
      "cell_type": "code",
      "source": [
        "tokenizer =  fit_tokenizer(train_text, NUM_WORDS, OOV_TOKEN)\n",
        "word_index = tokenizer.word_index"
      ],
      "metadata": {
        "id": "yEQMxBGjVrRe"
      },
      "execution_count": null,
      "outputs": []
    },
    {
      "cell_type": "code",
      "source": [
        "print(f\"Vocabulary contains {len(word_index)} words\\n\")\n",
        "print(\" token included in vocabulary\" if \"\" in word_index else \" token NOT included in vocabulary\")"
      ],
      "metadata": {
        "colab": {
          "base_uri": "https://localhost:8080/"
        },
        "id": "O0AeAjNLWbI7",
        "outputId": "16c1429a-d331-44fe-e93a-d4ef120a0988"
      },
      "execution_count": null,
      "outputs": [
        {
          "output_type": "stream",
          "name": "stdout",
          "text": [
            "Vocabulary contains 29364 words\n",
            "\n",
            " token NOT included in vocabulary\n"
          ]
        }
      ]
    },
    {
      "cell_type": "code",
      "source": [
        "def seq_and_pad(sentences, tokenizer, padding, maxlen):\n",
        "    \"\"\"\n",
        "    Generates an array of token sequences and pads them to the same length\n",
        "\n",
        "    Args:\n",
        "        sentences (list of string): list of sentences to tokenize and pad\n",
        "        tokenizer (object): Tokenizer instance containing the word-index dictionary\n",
        "        padding (string): type of padding to use\n",
        "        maxlen (int): maximum length of the token sequence\n",
        "\n",
        "    Returns:\n",
        "        padded_sequences (array of int): tokenized sentences padded to the same length\n",
        "    \"\"\"\n",
        "\n",
        "    # Convert sentences to sequences\n",
        "    sequences = tokenizer.texts_to_sequences(sentences)\n",
        "\n",
        "    # Pad the sequences using the correct padding and maxlen\n",
        "    padded_sequences = pad_sequences(sequences , maxlen = maxlen , padding = padding)\n",
        "\n",
        "    return padded_sequences"
      ],
      "metadata": {
        "id": "ijM_9ymtWdzR"
      },
      "execution_count": null,
      "outputs": []
    },
    {
      "cell_type": "code",
      "source": [
        "train_padded_seq = seq_and_pad(train_text, tokenizer, PADDING, MAXLEN)\n",
        "test_padded_seq = seq_and_pad(test_text, tokenizer, PADDING, MAXLEN)"
      ],
      "metadata": {
        "id": "BDjhbBAgWpjS"
      },
      "execution_count": null,
      "outputs": []
    },
    {
      "cell_type": "code",
      "source": [
        "print(f\"Padded training sequences have shape: {train_padded_seq.shape}\\n\")\n",
        "print(f\"Padded validation sequences have shape: {test_padded_seq.shape}\")"
      ],
      "metadata": {
        "colab": {
          "base_uri": "https://localhost:8080/"
        },
        "id": "sZz4BK97WxN6",
        "outputId": "8537444e-f383-427b-be89-c33bad30e4b8"
      },
      "execution_count": null,
      "outputs": [
        {
          "output_type": "stream",
          "name": "stdout",
          "text": [
            "Padded training sequences have shape: (15766, 20)\n",
            "\n",
            "Padded validation sequences have shape: (6758, 20)\n"
          ]
        }
      ]
    },
    {
      "cell_type": "code",
      "source": [
        "def tokenize_labels(all_labels, split_labels):\n",
        "    \"\"\"\n",
        "    Tokenizes the labels\n",
        "\n",
        "    Args:\n",
        "        all_labels (list of string): labels to generate the word-index from\n",
        "        split_labels (list of string): labels to tokenize\n",
        "\n",
        "    Returns:\n",
        "        label_seq_np (array of int): tokenized labels\n",
        "    \"\"\"\n",
        "\n",
        "    # Instantiate the Tokenizer (no additional arguments needed)\n",
        "    label_tokenizer = Tokenizer()\n",
        "\n",
        "    # Fit the tokenizer on all the labels\n",
        "    label_tokenizer.fit_on_texts(all_labels)\n",
        "\n",
        "    # Convert labels to sequences\n",
        "    label_seq = label_tokenizer.texts_to_sequences(split_labels)\n",
        "\n",
        "    # Convert sequences to a numpy array. Don't forget to substact 1 from every entry in the array!\n",
        "    label_seq_np = np.array(label_seq)\n",
        "    label_seq_np = np.subtract(label_seq_np , 1)\n",
        "\n",
        "\n",
        "    return label_seq_np"
      ],
      "metadata": {
        "id": "BG7Dz3nQZjmS"
      },
      "execution_count": null,
      "outputs": []
    },
    {
      "cell_type": "code",
      "source": [
        "train_label_seq = tokenize_labels(df['Sentiment'], train_labels)\n",
        "test_label_seq = tokenize_labels(df['Sentiment'], test_labels)"
      ],
      "metadata": {
        "id": "55tSUzzsZjjV"
      },
      "execution_count": null,
      "outputs": []
    },
    {
      "cell_type": "code",
      "source": [
        "print(f\"First 5 labels of the training set should look like this:\\n{train_label_seq[:5]}\\n\")\n",
        "print(f\"First 5 labels of the validation set should look like this:\\n{test_label_seq[:5]}\\n\")\n",
        "print(f\"Tokenized labels of the training set have shape: {train_label_seq.shape}\\n\")\n",
        "print(f\"Tokenized labels of the validation set have shape: {test_label_seq.shape}\\n\")\n"
      ],
      "metadata": {
        "colab": {
          "base_uri": "https://localhost:8080/"
        },
        "id": "adHTLeadaZC9",
        "outputId": "f7d6e6f8-c565-4d6c-d545-d1926a2f3cc9"
      },
      "execution_count": null,
      "outputs": [
        {
          "output_type": "stream",
          "name": "stdout",
          "text": [
            "First 5 labels of the training set should look like this:\n",
            "[[1]\n",
            " [0]\n",
            " [1]\n",
            " [0]\n",
            " [2]]\n",
            "\n",
            "First 5 labels of the validation set should look like this:\n",
            "[[1]\n",
            " [2]\n",
            " [1]\n",
            " [1]\n",
            " [1]]\n",
            "\n",
            "Tokenized labels of the training set have shape: (15766, 1)\n",
            "\n",
            "Tokenized labels of the validation set have shape: (6758, 1)\n",
            "\n"
          ]
        }
      ]
    },
    {
      "cell_type": "markdown",
      "source": [
        "7. **Model**"
      ],
      "metadata": {
        "id": "Q6yP-kc1i__v"
      }
    },
    {
      "cell_type": "code",
      "source": [
        "model = tf.keras.Sequential([\n",
        "            Embedding(input_dim=NUM_WORDS, output_dim=EMBEDDING_DIM, input_length=MAXLEN),\n",
        "            Bidirectional(LSTM(150)),\n",
        "            Dropout(0.4),\n",
        "            Dense(512, activation='relu'),\n",
        "            Dropout(0.6),\n",
        "            Dense(256, activation='relu'),\n",
        "            Dropout(0.10),\n",
        "            Dense(3, activation='softmax')\n",
        "])\n",
        "\n",
        "model.compile(loss='sparse_categorical_crossentropy',\n",
        "                  optimizer='adam',\n",
        "                  metrics=['accuracy'])\n",
        "\n",
        "history = model.fit(\n",
        "    train_padded_seq,\n",
        "    train_label_seq,\n",
        "    epochs=10,\n",
        "    validation_data=(test_padded_seq, test_label_seq)\n",
        ")"
      ],
      "metadata": {
        "colab": {
          "base_uri": "https://localhost:8080/"
        },
        "id": "bMI3oTM6XSD9",
        "outputId": "01bad1b5-d896-4606-b2e7-1d3fd4e8a3c2"
      },
      "execution_count": null,
      "outputs": [
        {
          "output_type": "stream",
          "name": "stdout",
          "text": [
            "Epoch 1/10\n",
            "493/493 [==============================] - 39s 69ms/step - loss: 0.8049 - accuracy: 0.6128 - val_loss: 0.6656 - val_accuracy: 0.7035\n",
            "Epoch 2/10\n",
            "493/493 [==============================] - 29s 59ms/step - loss: 0.5292 - accuracy: 0.7798 - val_loss: 0.6565 - val_accuracy: 0.7160\n",
            "Epoch 3/10\n",
            "493/493 [==============================] - 38s 77ms/step - loss: 0.4026 - accuracy: 0.8379 - val_loss: 0.7564 - val_accuracy: 0.6965\n",
            "Epoch 4/10\n",
            "493/493 [==============================] - 33s 67ms/step - loss: 0.3159 - accuracy: 0.8752 - val_loss: 0.8248 - val_accuracy: 0.6993\n",
            "Epoch 5/10\n",
            "493/493 [==============================] - 29s 58ms/step - loss: 0.2484 - accuracy: 0.9018 - val_loss: 0.9875 - val_accuracy: 0.6925\n",
            "Epoch 6/10\n",
            "493/493 [==============================] - 30s 61ms/step - loss: 0.2065 - accuracy: 0.9210 - val_loss: 1.1070 - val_accuracy: 0.6961\n",
            "Epoch 7/10\n",
            "493/493 [==============================] - 29s 59ms/step - loss: 0.1759 - accuracy: 0.9333 - val_loss: 1.3748 - val_accuracy: 0.6867\n",
            "Epoch 8/10\n",
            "493/493 [==============================] - 29s 59ms/step - loss: 0.1481 - accuracy: 0.9412 - val_loss: 1.5674 - val_accuracy: 0.6918\n",
            "Epoch 9/10\n",
            "493/493 [==============================] - 28s 57ms/step - loss: 0.1319 - accuracy: 0.9448 - val_loss: 1.6342 - val_accuracy: 0.6854\n",
            "Epoch 10/10\n",
            "493/493 [==============================] - 31s 63ms/step - loss: 0.1222 - accuracy: 0.9493 - val_loss: 1.8035 - val_accuracy: 0.6890\n"
          ]
        }
      ]
    },
    {
      "cell_type": "markdown",
      "source": [
        "8. **Validation of model**"
      ],
      "metadata": {
        "id": "qK85aNjWjRh8"
      }
    },
    {
      "cell_type": "code",
      "source": [
        "train_acc = history.history['accuracy']\n",
        "train_loss = history.history['loss']\n",
        "test_acc = history.history['val_accuracy']\n",
        "test_loss = history.history['val_loss']\n",
        "\n",
        "epochs = range(len(train_acc))\n",
        "\n",
        "plt.plot(epochs, train_acc, 'b', label='Training accuracy')\n",
        "plt.plot(epochs, test_acc, 'b', label='Test accuracy', color='red')\n",
        "plt.title('Accuracy')\n",
        "plt.legend()\n",
        "\n",
        "plt.figure()\n",
        "\n",
        "plt.plot(epochs, train_loss, 'b', label='Training Loss')\n",
        "plt.plot(epochs, test_loss, 'b', label='Test Loss', color='red')\n",
        "plt.title('Loss')\n",
        "plt.legend()\n",
        "\n",
        "plt.show()"
      ],
      "metadata": {
        "colab": {
          "base_uri": "https://localhost:8080/",
          "height": 976
        },
        "id": "w5BECfqHXYGs",
        "outputId": "c0f1c24d-82e4-4195-81be-fc81418676ca"
      },
      "execution_count": null,
      "outputs": [
        {
          "output_type": "stream",
          "name": "stderr",
          "text": [
            "<ipython-input-32-ac6939917a26>:9: UserWarning: color is redundantly defined by the 'color' keyword argument and the fmt string \"b\" (-> color=(0.0, 0.0, 1.0, 1)). The keyword argument will take precedence.\n",
            "  plt.plot(epochs, test_acc, 'b', label='Test accuracy', color='red')\n",
            "<ipython-input-32-ac6939917a26>:16: UserWarning: color is redundantly defined by the 'color' keyword argument and the fmt string \"b\" (-> color=(0.0, 0.0, 1.0, 1)). The keyword argument will take precedence.\n",
            "  plt.plot(epochs, test_loss, 'b', label='Test Loss', color='red')\n"
          ]
        },
        {
          "output_type": "display_data",
          "data": {
            "text/plain": [
              "<Figure size 640x480 with 1 Axes>"
            ],
            "image/png": "[encoded data removed]"
          },
          "metadata": {}
        },
        {
          "output_type": "display_data",
          "data": {
            "text/plain": [
              "<Figure size 640x480 with 1 Axes>"
            ],
            "image/png": "[encoded data removed]"
          },
          "metadata": {}
        }
      ]
    },
    {
      "cell_type": "code",
      "source": [
        "#saving your model\n",
        "model.save(\"model.h5\")"
      ],
      "metadata": {
        "id": "bAhEGRaZ04B7"
      },
      "execution_count": null,
      "outputs": []
    },
    {
      "cell_type": "markdown",
      "source": [
        "From this we can see that the model is clearly overfitting. We getting improvement in the training accuracy but not for validatioin accuracy."
      ],
      "metadata": {
        "id": "XyIm1goMjZEr"
      }
    },
    {
      "cell_type": "code",
      "source": [],
      "metadata": {
        "id": "8uxDs6Na1OjY"
      },
      "execution_count": null,
      "outputs": []
    },
    {
      "cell_type": "code",
      "source": [],
      "metadata": {
        "id": "fVg2L0Sb1OYu"
      },
      "execution_count": null,
      "outputs": []
    },
    {
      "cell_type": "markdown",
      "source": [
        "9. **Transfer Learning**"
      ],
      "metadata": {
        "id": "T8NPTtm-jvjT"
      }
    },
    {
      "cell_type": "markdown",
      "source": [
        "In section we will use transfer learning if it can improve the model and avoid overfitting like the previous model."
      ],
      "metadata": {
        "id": "mo-zeAVdjyXE"
      }
    },
    {
      "cell_type": "code",
      "source": [
        "import tensorflow_hub as hub"
      ],
      "metadata": {
        "id": "UHy-KkMUi2w8"
      },
      "execution_count": null,
      "outputs": []
    },
    {
      "cell_type": "code",
      "source": [
        "le = LabelEncoder()\n",
        "df['Sentiment'] = le.fit_transform(df['Sentiment'])"
      ],
      "metadata": {
        "id": "wDjZVX2-nM0L"
      },
      "execution_count": null,
      "outputs": []
    },
    {
      "cell_type": "code",
      "source": [
        "train_texts, test_texts, train_labels, test_labels = train_test_split(df['Tweet'], df['Sentiment'], test_size=0.2, random_state=42)"
      ],
      "metadata": {
        "id": "ppANlRHpnWLL"
      },
      "execution_count": null,
      "outputs": []
    },
    {
      "cell_type": "code",
      "source": [
        "embedding = 'https://tfhub.dev/google/tf2-preview/nnlm-en-dim128/1'\n",
        "hub_layer = hub.KerasLayer(embedding, input_shape=[], dtype=tf.string, trainable=True)"
      ],
      "metadata": {
        "id": "TMqdR851nA_d"
      },
      "execution_count": null,
      "outputs": []
    },
    {
      "cell_type": "code",
      "source": [
        "model = tf.keras.Sequential()\n",
        "model.add(hub_layer)\n",
        "model.add(tf.keras.layers.Dense(256, activation='relu'))\n",
        "model.add(tf.keras.layers.Dropout(0.2))\n",
        "model.add(tf.keras.layers.Dense(3,  activation='softmax'))\n",
        "\n"
      ],
      "metadata": {
        "id": "DJEVXG9BqsW9"
      },
      "execution_count": null,
      "outputs": []
    },
    {
      "cell_type": "code",
      "source": [
        "# Compile the model\n",
        "model.compile(loss='sparse_categorical_crossentropy',\n",
        "                  optimizer='adam',\n",
        "                  metrics=['accuracy'])\n",
        "\n",
        "model.summary()"
      ],
      "metadata": {
        "colab": {
          "base_uri": "https://localhost:8080/"
        },
        "id": "CpqZVnNxrHmY",
        "outputId": "c8012090-1d19-4025-9c25-0da8bec0b6cf"
      },
      "execution_count": null,
      "outputs": [
        {
          "output_type": "stream",
          "name": "stdout",
          "text": [
            "Model: \"sequential_2\"\n",
            "_________________________________________________________________\n",
            " Layer (type)                Output Shape              Param #   \n",
            "=================================================================\n",
            " keras_layer_1 (KerasLayer)  (None, 128)               124642688 \n",
            "                                                                 \n",
            " dense_5 (Dense)             (None, 256)               33024     \n",
            "                                                                 \n",
            " dropout_4 (Dropout)         (None, 256)               0         \n",
            "                                                                 \n",
            " dense_6 (Dense)             (None, 3)                 771       \n",
            "                                                                 \n",
            "=================================================================\n",
            "Total params: 124,676,483\n",
            "Trainable params: 124,676,483\n",
            "Non-trainable params: 0\n",
            "_________________________________________________________________\n"
          ]
        }
      ]
    },
    {
      "cell_type": "code",
      "source": [
        "history= model.fit(train_texts, train_labels, epochs=5, batch_size=32, validation_data=(test_texts, test_labels))\n"
      ],
      "metadata": {
        "colab": {
          "base_uri": "https://localhost:8080/"
        },
        "id": "PrJFgnW8rJ3F",
        "outputId": "94dea96f-37e5-4073-affc-409b09a63287"
      },
      "execution_count": null,
      "outputs": [
        {
          "output_type": "stream",
          "name": "stdout",
          "text": [
            "Epoch 1/5\n",
            "564/564 [==============================] - 1191s 2s/step - loss: 0.7324 - accuracy: 0.6656 - val_loss: 0.6519 - val_accuracy: 0.7074\n",
            "Epoch 2/5\n",
            "564/564 [==============================] - 1113s 2s/step - loss: 0.4639 - accuracy: 0.8104 - val_loss: 0.7014 - val_accuracy: 0.6954\n",
            "Epoch 3/5\n",
            "564/564 [==============================] - 1085s 2s/step - loss: 0.3248 - accuracy: 0.8721 - val_loss: 0.8381 - val_accuracy: 0.6948\n",
            "Epoch 4/5\n",
            "564/564 [==============================] - 1068s 2s/step - loss: 0.2403 - accuracy: 0.9060 - val_loss: 1.0425 - val_accuracy: 0.6841\n",
            "Epoch 5/5\n",
            "564/564 [==============================] - 1063s 2s/step - loss: 0.1729 - accuracy: 0.9314 - val_loss: 1.3439 - val_accuracy: 0.6879\n"
          ]
        }
      ]
    },
    {
      "cell_type": "code",
      "source": [
        "train_acc = history.history['accuracy']\n",
        "train_loss = history.history['loss']\n",
        "test_acc = history.history['val_accuracy']\n",
        "test_loss = history.history['val_loss']\n",
        "\n",
        "epochs = range(len(train_acc))\n",
        "\n",
        "plt.plot(epochs, train_acc, 'b', label='Training accuracy')\n",
        "plt.plot(epochs, test_acc, 'b', label='Test accuracy', color='red')\n",
        "plt.title('Accuracy')\n",
        "plt.legend()\n",
        "\n",
        "plt.figure()\n",
        "\n",
        "plt.plot(epochs, train_loss, 'b', label='Training Loss')\n",
        "plt.plot(epochs, test_loss, 'b', label='Test Loss', color='red')\n",
        "plt.title('Loss')\n",
        "plt.legend()\n",
        "\n",
        "plt.show()"
      ],
      "metadata": {
        "colab": {
          "base_uri": "https://localhost:8080/",
          "height": 976
        },
        "id": "qOV77Z9urPnG",
        "outputId": "2ea719a5-b130-46de-b303-e16764395121"
      },
      "execution_count": null,
      "outputs": [
        {
          "output_type": "stream",
          "name": "stderr",
          "text": [
            "<ipython-input-56-ac6939917a26>:9: UserWarning: color is redundantly defined by the 'color' keyword argument and the fmt string \"b\" (-> color=(0.0, 0.0, 1.0, 1)). The keyword argument will take precedence.\n",
            "  plt.plot(epochs, test_acc, 'b', label='Test accuracy', color='red')\n",
            "<ipython-input-56-ac6939917a26>:16: UserWarning: color is redundantly defined by the 'color' keyword argument and the fmt string \"b\" (-> color=(0.0, 0.0, 1.0, 1)). The keyword argument will take precedence.\n",
            "  plt.plot(epochs, test_loss, 'b', label='Test Loss', color='red')\n"
          ]
        },
        {
          "output_type": "display_data",
          "data": {
            "text/plain": [
              "<Figure size 640x480 with 1 Axes>"
            ],
            "image/png": "[encoded data removed]"
          },
          "metadata": {}
        },
        {
          "output_type": "display_data",
          "data": {
            "text/plain": [
              "<Figure size 640x480 with 1 Axes>"
            ],
            "image/png": "[encoded data removed]"
          },
          "metadata": {}
        }
      ]
    },
    {
      "cell_type": "code",
      "source": [
        "#saving your model\n",
        "model.save(\"Transfer_Learning.h5\")"
      ],
      "metadata": {
        "id": "ArTDLsFVeqwH"
      },
      "execution_count": null,
      "outputs": []
    },
    {
      "cell_type": "markdown",
      "source": [
        "Here we can see the model with the transfer learning only improves the accuracy of training data. It didn't fix the overfitting problem."
      ],
      "metadata": {
        "id": "ad8Ae7DZ0nBM"
      }
    },
    {
      "cell_type": "code",
      "source": [],
      "metadata": {
        "id": "NdNxHD9z0iBx"
      },
      "execution_count": null,
      "outputs": []
    }
  ]
}